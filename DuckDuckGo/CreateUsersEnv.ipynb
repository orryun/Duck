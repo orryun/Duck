{
 "cells": [
  {
   "cell_type": "code",
   "execution_count": 2,
   "metadata": {
    "collapsed": false
   },
   "outputs": [],
   "source": [
    "import shutil"
   ]
  },
  {
   "cell_type": "code",
   "execution_count": 3,
   "metadata": {
    "collapsed": true
   },
   "outputs": [],
   "source": [
    "import os"
   ]
  },
  {
   "cell_type": "code",
   "execution_count": 4,
   "metadata": {
    "collapsed": true
   },
   "outputs": [],
   "source": [
    "import subprocess"
   ]
  },
  {
   "cell_type": "code",
   "execution_count": 5,
   "metadata": {
    "collapsed": false
   },
   "outputs": [],
   "source": [
    "#!pip install pathlib"
   ]
  },
  {
   "cell_type": "code",
   "execution_count": 6,
   "metadata": {
    "collapsed": false
   },
   "outputs": [],
   "source": [
    "from pathlib import Path"
   ]
  },
  {
   "cell_type": "code",
   "execution_count": 7,
   "metadata": {
    "collapsed": true
   },
   "outputs": [],
   "source": [
    "workspace = Path(r'C:\\Workspace')"
   ]
  },
  {
   "cell_type": "code",
   "execution_count": 8,
   "metadata": {
    "collapsed": true
   },
   "outputs": [],
   "source": [
    "user_folders = {'u{:02}'.format(user_id): workspace.joinpath('u{:02}'.format(user_id)) for user_id in xrange(1, 31)}"
   ]
  },
  {
   "cell_type": "code",
   "execution_count": 9,
   "metadata": {
    "collapsed": false
   },
   "outputs": [
    {
     "ename": "NameError",
     "evalue": "name 'user_path' is not defined",
     "output_type": "error",
     "traceback": [
      "\u001b[1;31m---------------------------------------------------------------------------\u001b[0m",
      "\u001b[1;31mNameError\u001b[0m                                 Traceback (most recent call last)",
      "\u001b[1;32m<ipython-input-9-37f662f5232d>\u001b[0m in \u001b[0;36m<module>\u001b[1;34m()\u001b[0m\n\u001b[0;32m      1\u001b[0m \u001b[1;32mfor\u001b[0m \u001b[0muser_folder\u001b[0m \u001b[1;32min\u001b[0m \u001b[0muser_folders\u001b[0m\u001b[1;33m.\u001b[0m\u001b[0mvalues\u001b[0m\u001b[1;33m(\u001b[0m\u001b[1;33m)\u001b[0m\u001b[1;33m:\u001b[0m\u001b[1;33m\u001b[0m\u001b[0m\n\u001b[1;32m----> 2\u001b[1;33m     \u001b[0muser_path\u001b[0m\u001b[1;33m.\u001b[0m\u001b[0mmkdir\u001b[0m\u001b[1;33m(\u001b[0m\u001b[1;33m)\u001b[0m\u001b[1;33m\u001b[0m\u001b[0m\n\u001b[0m",
      "\u001b[1;31mNameError\u001b[0m: name 'user_path' is not defined"
     ]
    }
   ],
   "source": [
    "for user_folder in user_folders.values():\n",
    "    user_path.mkdir()"
   ]
  },
  {
   "cell_type": "code",
   "execution_count": null,
   "metadata": {
    "collapsed": false
   },
   "outputs": [],
   "source": []
  },
  {
   "cell_type": "code",
   "execution_count": 10,
   "metadata": {
    "collapsed": false
   },
   "outputs": [],
   "source": [
    "user_name = 'u01'\n",
    "user_folder = user_folders[user_name]"
   ]
  },
  {
   "cell_type": "code",
   "execution_count": 11,
   "metadata": {
    "collapsed": false
   },
   "outputs": [
    {
     "data": {
      "text/plain": [
       "('u01', WindowsPath('C:/Workspace/u01'))"
      ]
     },
     "execution_count": 11,
     "metadata": {},
     "output_type": "execute_result"
    }
   ],
   "source": [
    "user_name, user_folder"
   ]
  },
  {
   "cell_type": "code",
   "execution_count": null,
   "metadata": {
    "collapsed": false
   },
   "outputs": [],
   "source": [
    "for user_name, user_folder in user_folders.items():\n",
    "    bp_user_folder = user_folder.joinpath('duck_'+ user_name)\n",
    "    shutil.copytree(str(workspace.joinpath('root', 'Nino')), str(bp_user_folder))\n",
    "\n",
    "    python_root = bp_user_folder.joinpath('nino')\n",
    "\n",
    "    new_python_root = bp_user_folder.joinpath('duck_'+ user_name)\n",
    "    python_root.rename(new_python_root)\n",
    "\n",
    "    setup_py = bp_user_folder.joinpath('setup.py')\n",
    "\n",
    "    setup_data = setup_py.open('rb').read()\n",
    "    setup_data = setup_data.replace('\"nino\"', '\"duck_{}\"'.format(user_name))\n",
    "    setup_py.open('wb').write(setup_data)\n",
    "\n",
    "    config_py = new_python_root.joinpath('config.py')\n",
    "\n",
    "    config_data = config_py.open('rb').read()\n",
    "    config_data = config_data.replace('PORT = 4900', 'PORT = 49{}'.format(user_name[1:]))\n",
    "    config_py.open('wb').write(config_data)\n",
    "    \n",
    "    \n",
    "    server_py = new_python_root.joinpath('run_server.py')\n",
    "    \n",
    "    server_data = server_py.open('rb').read()\n",
    "    server_data = server_data.replace('nino.', 'duck_{}.'.format(user_name))\n",
    "    server_py.open('wb').write(server_data)\n",
    "\n",
    "    node_modules = workspace.joinpath('root', 'node_modules.7z')\n",
    "\n",
    "    shutil.copy(str(node_modules), str(new_python_root.joinpath('client', 'node_modules.7z')))\n",
    "    \n",
    "    subprocess.check_call('pip install -e ' + str(bp_user_folder))\n",
    "    \n",
    "    os.system('rmdir /S /Q \\\"{}\\\"'.format(str(bp_user_folder.joinpath('.git'))))\n"
   ]
  },
  {
   "cell_type": "code",
   "execution_count": null,
   "metadata": {
    "collapsed": false
   },
   "outputs": [],
   "source": [
    "for user_name, user_folder in user_folders.items():\n",
    "    bp_user_folder = user_folder.joinpath('duck_'+ user_name)\n",
    "    new_python_root = bp_user_folder.joinpath('duck_'+ user_name)\n",
    "    \n",
    "    subprocess.check_call(r'\"c:\\Program Files\\7-Zip\\7z.exe\" x -onode_modules  node_modules.7z', shell=True, \n",
    "                          cwd=str(new_python_root.joinpath('client')))"
   ]
  },
  {
   "cell_type": "code",
   "execution_count": null,
   "metadata": {
    "collapsed": true
   },
   "outputs": [],
   "source": []
  }
 ],
 "metadata": {
  "anaconda-cloud": {},
  "kernelspec": {
   "display_name": "Python [Root]",
   "language": "python",
   "name": "Python [Root]"
  },
  "language_info": {
   "codemirror_mode": {
    "name": "ipython",
    "version": 2
   },
   "file_extension": ".py",
   "mimetype": "text/x-python",
   "name": "python",
   "nbconvert_exporter": "python",
   "pygments_lexer": "ipython2",
   "version": "2.7.11"
  }
 },
 "nbformat": 4,
 "nbformat_minor": 0
}
